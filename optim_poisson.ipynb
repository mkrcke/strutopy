{
 "cells": [
  {
   "cell_type": "markdown",
   "id": "5b395459",
   "metadata": {},
   "source": [
    "### Scipy optimize Poisson parameter"
   ]
  },
  {
   "cell_type": "code",
   "execution_count": 1,
   "id": "273f493c",
   "metadata": {},
   "outputs": [
    {
     "name": "stderr",
     "output_type": "stream",
     "text": [
      "/var/folders/mj/mqt0qs7x0njf2_k3_mr5dcg80000gn/T/ipykernel_15423/3493582753.py:17: RuntimeWarning: divide by zero encountered in log\n",
      "  return - np.sum([(x*np.log(mu) - np.log(special.factorial(x))-mu) for x in data])\n",
      "/usr/local/Caskroom/miniconda/base/envs/master/lib/python3.10/site-packages/scipy/optimize/_optimize.py:2782: RuntimeWarning: invalid value encountered in double_scalars\n",
      "  w = xb - ((xb - xc) * tmp2 - (xb - xa) * tmp1) / denom\n"
     ]
    },
    {
     "data": {
      "text/plain": [
       "[Text(0.5, 1.0, 'X follows a Poisson Distribution with parameter mu=2.703682374278964')]"
      ]
     },
     "execution_count": 1,
     "metadata": {},
     "output_type": "execute_result"
    },
    {
     "data": {
      "image/png": "[encoded data removed]",
      "text/plain": [
       "<Figure size 432x288 with 1 Axes>"
      ]
     },
     "metadata": {
      "needs_background": "light"
     },
     "output_type": "display_data"
    }
   ],
   "source": [
    "from scipy import optimize, special\n",
    "from math import factorial\n",
    "import matplotlib.pyplot as plt\n",
    "import numpy as np \n",
    "\n",
    "obs = (1, 2, 3, 4, 5, 6, 7, 8, 9, 10, 11, 12, 13, 17, 42, 43)\n",
    "repeats = [1392, 1711, 914, 468, 306, 192, 96, 56, 35, 17, 15, 6, 2, 2, 1, 1]\n",
    "\n",
    "data = np.repeat(obs, repeats)\n",
    "\n",
    "\n",
    "\n",
    "def log_lklh_poisson(mu):\n",
    "    \"\"\" \n",
    "    Returns log likelihood for the Poisson distribution \n",
    "    \"\"\"\n",
    "    return - np.sum([(x*np.log(mu) - np.log(special.factorial(x))-mu) for x in data])\n",
    "\n",
    "\n",
    "mu = 1\n",
    "result = optimize.minimize_scalar(log_lklh_poisson)\n",
    "\n",
    "fig, ax = plt.subplots()\n",
    "ax.hist(data, bins=30)\n",
    "ax.set(title=\"X follows a Poisson Distribution with parameter mu={}\".format(result.x))\n",
    "#fig.show()"
   ]
  },
  {
   "cell_type": "code",
   "execution_count": 2,
   "id": "d8c9528a",
   "metadata": {},
   "outputs": [
    {
     "data": {
      "text/plain": [
       "     fun: 9966.067119224912\n",
       " message: '\\nOptimization terminated successfully;\\nThe returned value satisfies the termination criteria\\n(using xtol = 1.48e-08 )'\n",
       "    nfev: 14\n",
       "     nit: 9\n",
       " success: True\n",
       "       x: 2.703682374278964"
      ]
     },
     "execution_count": 2,
     "metadata": {},
     "output_type": "execute_result"
    }
   ],
   "source": [
    "result"
   ]
  },
  {
   "cell_type": "code",
   "execution_count": 3,
   "id": "857800eb",
   "metadata": {},
   "outputs": [
    {
     "data": {
      "text/plain": [
       "2.703682374278964"
      ]
     },
     "execution_count": 3,
     "metadata": {},
     "output_type": "execute_result"
    }
   ],
   "source": [
    "result.x"
   ]
  },
  {
   "cell_type": "code",
   "execution_count": null,
   "id": "9e3981f9",
   "metadata": {},
   "outputs": [],
   "source": []
  }
 ],
 "metadata": {
  "kernelspec": {
   "display_name": "Python 3 (ipykernel)",
   "language": "python",
   "name": "python3"
  },
  "language_info": {
   "codemirror_mode": {
    "name": "ipython",
    "version": 3
   },
   "file_extension": ".py",
   "mimetype": "text/x-python",
   "name": "python",
   "nbconvert_exporter": "python",
   "pygments_lexer": "ipython3",
   "version": "3.10.4"
  }
 },
 "nbformat": 4,
 "nbformat_minor": 5
}
