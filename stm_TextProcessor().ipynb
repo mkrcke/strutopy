{
 "cells": [
  {
   "cell_type": "code",
   "execution_count": 34,
   "id": "acc3e5f4",
   "metadata": {},
   "outputs": [],
   "source": [
    "import pandas as pd\n",
    "import numpy as np\n",
    "from gensim.parsing.porter import PorterStemmer\n",
    "from gensim.parsing.preprocessing import (remove_stopwords,\n",
    "                                          preprocess_string,\n",
    "                                          strip_numeric,\n",
    "                                          stem_text,\n",
    "                                          strip_punctuation)"
   ]
  },
  {
   "cell_type": "code",
   "execution_count": 3,
   "id": "978f5bc0",
   "metadata": {},
   "outputs": [],
   "source": [
    "data = pd.read_csv('poliblogs2008.csv')"
   ]
  },
  {
   "cell_type": "markdown",
   "id": "d3cc83c4",
   "metadata": {},
   "source": [
    "### textProcessor()\n",
    "Function that takes a vector of raw texts and performs basic operations. Uses the tm-package for these operations.\n",
    "\n",
    "Input is designed as a spreadsheet, where each document is in a single cell. \n",
    "- Stemming (snowballStemmer:: SnowballC)\n",
    "- Sparsity and Stopword Removal \n",
    "- Empty Document removal \n",
    "- Specified Metadata\n",
    "\n",
    "1. Strips text and removes all non-characters. \n",
    "2. Builds corpus\n",
    "3. Converts to lower case\n",
    "4. removes (custom) punctuation\n",
    "5. removes (custom) stopwords\n",
    "6. removing number \n",
    "7. stemming\n",
    "8. assigns metadata\n",
    "9. creates output (document term matrix)"
   ]
  },
  {
   "cell_type": "code",
   "execution_count": 4,
   "id": "a8545157",
   "metadata": {},
   "outputs": [],
   "source": [
    "# Stopwords\n",
    "data.documents = data.documents.apply(remove_stopwords)"
   ]
  },
  {
   "cell_type": "code",
   "execution_count": 5,
   "id": "4c602cca",
   "metadata": {},
   "outputs": [],
   "source": [
    "# Remove numbers\n",
    "data.documents = data.documents.apply(strip_numeric)"
   ]
  },
  {
   "cell_type": "code",
   "execution_count": 6,
   "id": "ff07f87a",
   "metadata": {},
   "outputs": [],
   "source": [
    "# Punctuation\n",
    "data.documents = data.documents.apply(strip_punctuation)"
   ]
  },
  {
   "cell_type": "code",
   "execution_count": 7,
   "id": "92c6c9ec",
   "metadata": {},
   "outputs": [],
   "source": [
    "# Stemming\n",
    "data.documents = data.documents.apply(stem_text)"
   ]
  },
  {
   "cell_type": "code",
   "execution_count": 8,
   "id": "875f4d47",
   "metadata": {},
   "outputs": [
    {
     "data": {
      "text/plain": [
       "0        after week fals statement li dismiss apolog pa...\n",
       "1        i honestli don t know parti s caucu result pla...\n",
       "2        while stand aw willing troop iraq sacrific nat...\n",
       "3        these page recent said goodby global warm iron...\n",
       "4        a us report show enemi control inform battlefi...\n",
       "                               ...                        \n",
       "13241    check new mailer forward wai dem oper hillari ...\n",
       "13242    here s intern discuss go insid hillari campaig...\n",
       "13243    edward senior advis joe trippi theori clinton ...\n",
       "13244    thi interest the huffington post blockbust sco...\n",
       "13245    fox new report jame carvil paul begala re ente...\n",
       "Name: documents, Length: 13246, dtype: object"
      ]
     },
     "execution_count": 8,
     "metadata": {},
     "output_type": "execute_result"
    }
   ],
   "source": [
    "data.documents"
   ]
  },
  {
   "cell_type": "markdown",
   "id": "a730422b",
   "metadata": {},
   "source": [
    "## metadata: Additional data about the documents\n",
    "Specifically a dataframe or matrix object with number of rows equal to the number of documents and one column per meta-data type. The column names are used to label the metadata.  The metadata do not affect the text processing, but providing the metadata object insures that if documents are dropped the corresponding metadata rows are dropped as well."
   ]
  },
  {
   "cell_type": "code",
   "execution_count": 9,
   "id": "b5c84677",
   "metadata": {},
   "outputs": [],
   "source": [
    "# topical content covariate: rating\n",
    "# topical prevalence covariate: blog\n",
    "metadata = ['rating', 'blog'] \n",
    "meta = data.loc[:,metadata]"
   ]
  },
  {
   "cell_type": "markdown",
   "id": "f12996f1",
   "metadata": {},
   "source": [
    "## Document-Term-Matrix\n",
    "- documents: documents are stored as indexed word counts\n",
    "- vocab: indexed word vocabulary\n",
    "\n",
    "**Note**: While the output for the stm() function in R is required to be a Document-Term-Matrix, gensim relies on the bag-of-words representation of text. This might be a difference between the R implementation and the Python implementation. It has to be evaluated, whether the dtm-representation should be retained or being replaced with the BoW-representation. If so, adjustments to the algorithm are required."
   ]
  },
  {
   "cell_type": "code",
   "execution_count": 10,
   "id": "48c6b268",
   "metadata": {},
   "outputs": [],
   "source": [
    "from gensim.utils import tokenize, simple_preprocess\n",
    "from gensim import corpora"
   ]
  },
  {
   "cell_type": "code",
   "execution_count": 11,
   "id": "85dbd55a",
   "metadata": {},
   "outputs": [],
   "source": [
    "doc_tokens = [simple_preprocess(doc) for doc in data.documents]"
   ]
  },
  {
   "cell_type": "code",
   "execution_count": 45,
   "id": "03643f4f",
   "metadata": {},
   "outputs": [],
   "source": [
    "corpus = [dictionary.doc2bow(doc) for doc in doc_tokens]\n",
    "corpora.MmCorpus.serialize('corpus.mm', corpus)"
   ]
  },
  {
   "cell_type": "code",
   "execution_count": 41,
   "id": "74b79257",
   "metadata": {},
   "outputs": [],
   "source": [
    "dictionary = corpora.Dictionary(doc_tokens)\n",
    "dictionary.save('dictionary')"
   ]
  }
 ],
 "metadata": {
  "kernelspec": {
   "display_name": "Python 3 (ipykernel)",
   "language": "python",
   "name": "python3"
  },
  "language_info": {
   "codemirror_mode": {
    "name": "ipython",
    "version": 3
   },
   "file_extension": ".py",
   "mimetype": "text/x-python",
   "name": "python",
   "nbconvert_exporter": "python",
   "pygments_lexer": "ipython3",
   "version": "3.10.0"
  }
 },
 "nbformat": 4,
 "nbformat_minor": 5
}
