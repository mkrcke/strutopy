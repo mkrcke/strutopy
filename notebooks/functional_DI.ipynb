{
 "cells": [
  {
   "cell_type": "markdown",
   "id": "e5596e81",
   "metadata": {},
   "source": [
    "## Callable\n",
    "\n",
    "Frameworks expecting callback functions of specific signatures might be type hinted using Callable[[Arg1Type, Arg2Type], ReturnType] (https://docs.python.org/3/library/typing.html). "
   ]
  },
  {
   "cell_type": "code",
   "execution_count": 55,
   "id": "b0f80165",
   "metadata": {},
   "outputs": [],
   "source": [
    "from typing import Callable\n",
    "from typing_extensions import Protocol\n",
    "from returns.context import RequiresContext\n",
    "\n",
    "class _Deps(Protocol):\n",
    "    NUM_TOPICS: 10\n",
    "    VOCAB: 100\n",
    "    LEVEL: 2\n",
    "\n",
    "# TEST \n",
    "\n",
    "def calculate_parLength(model: str) -> Callable[[_Deps], int]:\n",
    "    if model == 'STM':\n",
    "        interact = True\n",
    "    else: \n",
    "        interact = False\n",
    "    return get_parLength(interact)\n",
    "\n",
    "#Create the parameters object\n",
    "\n",
    "def get_parLength(interact: bool) -> Callable[[_Deps], int]:\n",
    "    def factory(deps: _Deps):\n",
    "        if deps.LEVEL > 1:\n",
    "            aspectmod == True\n",
    "        else:\n",
    "            aspectmod == False\n",
    "        parLength = deps.NUM_TOPICS + deps.LEVEL * aspectmod + (deps.NUM_TOPICS*deps.LEVEL)*interact\n",
    "        return parLength\n",
    "    return factory\n"
   ]
  },
  {
   "cell_type": "code",
   "execution_count": 58,
   "id": "93c592b9",
   "metadata": {},
   "outputs": [
    {
     "name": "stdout",
     "output_type": "stream",
     "text": [
      "<function get_parLength.<locals>.factory at 0x108aaff40>\n"
     ]
    }
   ],
   "source": [
    "test = calculate_parLength('CTM')\n",
    "print(test)"
   ]
  },
  {
   "cell_type": "code",
   "execution_count": null,
   "id": "ec2087c1",
   "metadata": {},
   "outputs": [],
   "source": []
  }
 ],
 "metadata": {
  "kernelspec": {
   "display_name": "Python 3 (ipykernel)",
   "language": "python",
   "name": "python3"
  },
  "language_info": {
   "codemirror_mode": {
    "name": "ipython",
    "version": 3
   },
   "file_extension": ".py",
   "mimetype": "text/x-python",
   "name": "python",
   "nbconvert_exporter": "python",
   "pygments_lexer": "ipython3",
   "version": "3.10.0"
  }
 },
 "nbformat": 4,
 "nbformat_minor": 5
}
