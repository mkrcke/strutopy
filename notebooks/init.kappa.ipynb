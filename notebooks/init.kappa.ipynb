{
 "cells": [
  {
   "cell_type": "code",
   "execution_count": 24,
   "id": "b38a0ca1",
   "metadata": {},
   "outputs": [],
   "source": [
    "import numpy as np\n",
    "import pandas as pd\n",
    "from gensim import corpora"
   ]
  },
  {
   "cell_type": "code",
   "execution_count": 50,
   "id": "8c2741c1",
   "metadata": {},
   "outputs": [],
   "source": [
    "#Initialize parameters\n",
    "K = 10 #number of topics\n",
    "V = 100 #number of words\n",
    "A = 2 #dimension of topical content\n",
    "N = 20 #number of documents\n",
    "interactions = True"
   ]
  },
  {
   "cell_type": "markdown",
   "id": "cbc96a19",
   "metadata": {},
   "source": [
    "### Ingest corpus to create documents and vocab"
   ]
  },
  {
   "cell_type": "code",
   "execution_count": 43,
   "id": "a854af0b",
   "metadata": {},
   "outputs": [],
   "source": [
    "# load corpus\n",
    "documents = corpora.MmCorpus('corpus.mm')\n",
    "dictionary = corpora.Dictionary.load('dictionary')\n",
    "# Vocabulary\n",
    "dictionary[0]\n",
    "vocab = dictionary.id2token"
   ]
  },
  {
   "cell_type": "markdown",
   "id": "3e60c7a4",
   "metadata": {},
   "source": [
    " This function uses baseline probablities to create covariates for the parameter list and returns kappa. "
   ]
  },
  {
   "cell_type": "markdown",
   "id": "e72c2835",
   "metadata": {},
   "source": [
    "## Construction of the topical content variable kappa\n",
    "\n",
    "- kappa_t has dimension KxV \n",
    "- kappa_c has dimension AxV\n",
    "- kappa_i has dimension AxKxV\n",
    "\n",
    "The initialisation of kappa depends therefore on the number of topics (K), the number of content covariates (A) \n",
    "and the vocabulary length (V). "
   ]
  },
  {
   "cell_type": "markdown",
   "id": "dbe01473",
   "metadata": {},
   "source": [
    "To compute the baseline probabilities $m$, the vector of word-counts by document needs to be unlisted and then normalized. Hence $\\textit{documents}$, need to be transformed to a vector of indexed counts with length $V$."
   ]
  },
  {
   "cell_type": "code",
   "execution_count": 163,
   "id": "ab13cb84",
   "metadata": {},
   "outputs": [],
   "source": [
    "def init_kappa(documents, K, V, A, interactions): \n",
    "    # read in documents and vocab\n",
    "    flat_documents = [item for sublist in documents for item in sublist]\n",
    "    m = []\n",
    "\n",
    "    total_sum = sum(n for _, n in flat_documents)\n",
    "\n",
    "    for elem in flat_documents: \n",
    "        m.append(elem[1] / total_sum)\n",
    "\n",
    "    m = np.log(m) - np.log(np.mean(m)) #logit of m\n",
    "\n",
    "\n",
    "    #Defining parameters\n",
    "    aspectmod = A > 1 # if there is more than one topical content variable\n",
    "    if(aspectmod):\n",
    "        interact = interactions # allow for the choice to interact\n",
    "    else:\n",
    "        interact = FALSE\n",
    "\n",
    "    #Create the parameters object\n",
    "    parLength = K + A * aspectmod + (K*A)*interact\n",
    "\n",
    "    #create covariates. one element per item in parameter list.\n",
    "    #generation by type because its conceptually simpler\n",
    "    if not aspectmod & interact:\n",
    "        covar = {'k': np.arange(K),\n",
    "             'a': np.repeat(np.nan, parLength), #why parLength? \n",
    "             'type': np.repeat(1, K)}\n",
    "\n",
    "    if(aspectmod & interact == False):\n",
    "        covar = {'k': np.append(np.arange(K), np.repeat(np.nan, A)),\n",
    "                 'a': np.append(np.repeat(np.nan, K), np.arange(A)), \n",
    "                 'type': np.append(np.repeat(1, K), np.repeat(2, A))}      \n",
    "    if(interact):\n",
    "        covar = {'k': np.append(np.arange(K), np.append(np.repeat(np.nan, A), np.repeat(np.arange(K), A))),\n",
    "                 'a': np.append(np.repeat(np.nan, K), np.append(np.arange(A), np.repeat(np.arange(A), K))), \n",
    "                 'type': np.append(np.repeat(1, K), np.append(np.repeat(2, A),  np.repeat(3,K*A)))}\n",
    "\n",
    "    kappa = {'out': {'m':m,\n",
    "                     'params' : np.tile(np.repeat(0,V), (parLength, 1)),\n",
    "                     'covar' : covar\n",
    "                     #'kappasum':, why rolling sum?\n",
    "                    }\n",
    "            }\n",
    "\n",
    "    return(kappa['out'])"
   ]
  },
  {
   "cell_type": "code",
   "execution_count": 164,
   "id": "dcb7c1b6",
   "metadata": {
    "scrolled": true
   },
   "outputs": [],
   "source": [
    "kappa_initialized = init_kappa(documents, K, A, V, interactions)"
   ]
  }
 ],
 "metadata": {
  "kernelspec": {
   "display_name": "Python 3 (ipykernel)",
   "language": "python",
   "name": "python3"
  },
  "language_info": {
   "codemirror_mode": {
    "name": "ipython",
    "version": 3
   },
   "file_extension": ".py",
   "mimetype": "text/x-python",
   "name": "python",
   "nbconvert_exporter": "python",
   "pygments_lexer": "ipython3",
   "version": "3.10.0"
  }
 },
 "nbformat": 4,
 "nbformat_minor": 5
}
