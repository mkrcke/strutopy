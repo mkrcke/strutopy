{
 "cells": [
  {
   "cell_type": "code",
   "execution_count": 43,
   "id": "f761450c",
   "metadata": {},
   "outputs": [],
   "source": [
    "from gensim.parsing.preprocessing import remove_stopwords, preprocess_string\n",
    "from gensim.corpora.textcorpus import TextCorpus\n",
    "from gensim.corpora import Dictionary\n",
    "from gensim import utils\n",
    "from gensim.models import LdaModel"
   ]
  },
  {
   "cell_type": "code",
   "execution_count": 15,
   "id": "45aa685a",
   "metadata": {},
   "outputs": [],
   "source": [
    "doc_list = [\n",
    "   \"Hello, how are you?\", \"How do you do?\", \n",
    "   \"Hey what are you doing? yes you What are you doing?\"\n",
    "]"
   ]
  },
  {
   "cell_type": "code",
   "execution_count": 20,
   "id": "13c93b22",
   "metadata": {},
   "outputs": [
    {
     "data": {
      "text/plain": [
       "['Hello, you?', 'How do?', 'Hey doing? yes What doing?']"
      ]
     },
     "execution_count": 20,
     "metadata": {},
     "output_type": "execute_result"
    }
   ],
   "source": [
    "[remove_stopwords(doc) for doc in doc_list]\n"
   ]
  },
  {
   "cell_type": "code",
   "execution_count": 21,
   "id": "1bedd5ae",
   "metadata": {},
   "outputs": [
    {
     "data": {
      "text/plain": [
       "[['hello'], [], ['hei', 'ye']]"
      ]
     },
     "execution_count": 21,
     "metadata": {},
     "output_type": "execute_result"
    }
   ],
   "source": [
    "[preprocess_string(doc) for doc in doc_list]"
   ]
  },
  {
   "cell_type": "code",
   "execution_count": 23,
   "id": "dd8f50a3",
   "metadata": {},
   "outputs": [],
   "source": [
    "from gensim.test.utils import common_texts"
   ]
  },
  {
   "cell_type": "code",
   "execution_count": 24,
   "id": "08ea2e94",
   "metadata": {},
   "outputs": [
    {
     "data": {
      "text/plain": [
       "[['human', 'interface', 'computer'],\n",
       " ['survey', 'user', 'computer', 'system', 'response', 'time'],\n",
       " ['eps', 'user', 'interface', 'system'],\n",
       " ['system', 'human', 'system', 'eps'],\n",
       " ['user', 'response', 'time'],\n",
       " ['trees'],\n",
       " ['graph', 'trees'],\n",
       " ['graph', 'minors', 'trees'],\n",
       " ['graph', 'minors', 'survey']]"
      ]
     },
     "execution_count": 24,
     "metadata": {},
     "output_type": "execute_result"
    }
   ],
   "source": [
    "common_texts # preprocessed"
   ]
  },
  {
   "cell_type": "code",
   "execution_count": 57,
   "id": "f02783f5",
   "metadata": {},
   "outputs": [],
   "source": [
    "common_dictionary = Dictionary(common_texts)\n",
    "common_corpus = [common_dictionary.doc2bow(text) for text in common_texts]"
   ]
  },
  {
   "cell_type": "code",
   "execution_count": 58,
   "id": "5b613c91",
   "metadata": {},
   "outputs": [],
   "source": [
    "# Train the model on the corpus.\n",
    "\n",
    "lda = LdaModel(common_corpus, num_topics=10)"
   ]
  },
  {
   "cell_type": "code",
   "execution_count": 59,
   "id": "7d7a643f",
   "metadata": {},
   "outputs": [],
   "source": [
    "# Create a new corpus, made of previously unseen documents.\n",
    "\n",
    "other_texts = [\n",
    "    ['computer', 'time', 'graph'],\n",
    "    ['survey', 'response', 'eps'],\n",
    "    ['human', 'system', 'computer']\n",
    "]\n",
    "\n",
    "other_corpus = [common_dictionary.doc2bow(text) for text in other_texts]\n",
    "unseen_doc = other_corpus[0]\n"
   ]
  },
  {
   "cell_type": "code",
   "execution_count": 60,
   "id": "53d2fef2",
   "metadata": {},
   "outputs": [],
   "source": [
    "vector = lda[unseen_doc]  # get topic probability distribution for a document"
   ]
  },
  {
   "cell_type": "code",
   "execution_count": null,
   "id": "e4f24079",
   "metadata": {},
   "outputs": [],
   "source": []
  }
 ],
 "metadata": {
  "kernelspec": {
   "display_name": "Python 3 (ipykernel)",
   "language": "python",
   "name": "python3"
  },
  "language_info": {
   "codemirror_mode": {
    "name": "ipython",
    "version": 3
   },
   "file_extension": ".py",
   "mimetype": "text/x-python",
   "name": "python",
   "nbconvert_exporter": "python",
   "pygments_lexer": "ipython3",
   "version": "3.10.0"
  }
 },
 "nbformat": 4,
 "nbformat_minor": 5
}
