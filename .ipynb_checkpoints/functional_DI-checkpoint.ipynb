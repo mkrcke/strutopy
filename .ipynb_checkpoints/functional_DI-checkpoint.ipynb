{
 "cells": [
  {
   "cell_type": "markdown",
   "id": "8d261d0d",
   "metadata": {},
   "source": [
    "## Callable\n",
    "\n",
    "Frameworks expecting callback functions of specific signatures might be type hinted using Callable[[Arg1Type, Arg2Type], ReturnType] (https://docs.python.org/3/library/typing.html). "
   ]
  },
  {
   "cell_type": "code",
   "execution_count": 9,
   "id": "ca619786",
   "metadata": {},
   "outputs": [],
   "source": [
    "from typing import Callable\n",
    "from typing_extensions import Protocol\n",
    "from returns.context import RequiresContext"
   ]
  },
  {
   "cell_type": "code",
   "execution_count": 10,
   "id": "7d28df07",
   "metadata": {},
   "outputs": [],
   "source": [
    "class _Deps(Protocol):\n",
    "    NUM_TOPICS: int\n",
    "    VOCAB: int\n",
    "    LEVEL: int\n",
    "        "
   ]
  },
  {
   "cell_type": "code",
   "execution_count": 28,
   "id": "a489e9f7",
   "metadata": {},
   "outputs": [],
   "source": [
    "def get_params(interact: bool) -> RequiresContext[_Deps, int]:\n",
    "    def factory(deps: _Deps):\n",
    "        if not aspectmod & interact:\n",
    "            covar = {\n",
    "                'k': np.arange(K),\n",
    "                'a': np.repeat(np.nan, parLength), #why parLength? \n",
    "                'type': np.repeat(1, K)}\n",
    "\n",
    "        if(aspectmod & interact == False):\n",
    "            covar = {\n",
    "                'k': np.append(np.arange(K), np.repeat(np.nan, A)),\n",
    "                'a': np.append(np.repeat(np.nan, K), np.arange(A)),\n",
    "                'type': np.append(np.repeat(1, K), np.repeat(2, A))}      \n",
    "        if(interact):\n",
    "            covar = {\n",
    "                'k': np.append(np.arange(K), np.append(np.repeat(np.nan, A), np.repeat(np.arange(K), A))),\n",
    "                'a': np.append(np.repeat(np.nan, K), np.append(np.arange(A), np.repeat(np.arange(A), K))), \n",
    "                'type': np.append(np.repeat(1, K), np.append(np.repeat(2, A),  np.repeat(3,K*A)))}\n",
    "        \n",
    "        return deps.NUM_TOPICS, deps.VOCAB, deps.LEVEL"
   ]
  },
  {
   "cell_type": "code",
   "execution_count": null,
   "id": "18b6a715",
   "metadata": {},
   "outputs": [],
   "source": [
    "def init_kappa(documents, K:, V, A, interactions): \n",
    "    # read in documents and vocab\n",
    "    flat_documents = [item for sublist in documents for item in sublist]\n",
    "    m = []\n",
    "\n",
    "    total_sum = sum(n for _, n in flat_documents)\n",
    "\n",
    "    for elem in flat_documents: \n",
    "        m.append(elem[1] / total_sum)\n",
    "\n",
    "    m = np.log(m) - np.log(np.mean(m)) #logit of m\n",
    "\n",
    "\n",
    "    #Defining parameters\n",
    "    aspectmod = A > 1 # if there is more than one topical content variable\n",
    "    if(aspectmod):\n",
    "        interact = interactions # allow for the choice to interact\n",
    "    else:\n",
    "        interact = FALSE\n",
    "\n",
    "    #Create the parameters object\n",
    "    parLength = K + A * aspectmod + (K*A)*interact\n",
    "\n",
    "    #create covariates. one element per item in parameter list.\n",
    "    #generation by type because its conceptually simpler\n",
    "    if not aspectmod & interact:\n",
    "        covar = {'k': np.arange(K),\n",
    "             'a': np.repeat(np.nan, parLength), #why parLength? \n",
    "             'type': np.repeat(1, K)}\n",
    "\n",
    "    if(aspectmod & interact == False):\n",
    "        covar = {'k': np.append(np.arange(K), np.repeat(np.nan, A)),\n",
    "                 'a': np.append(np.repeat(np.nan, K), np.arange(A)), \n",
    "                 'type': np.append(np.repeat(1, K), np.repeat(2, A))}      \n",
    "    if(interact):\n",
    "        covar = {'k': np.append(np.arange(K), np.append(np.repeat(np.nan, A), np.repeat(np.arange(K), A))),\n",
    "                 'a': np.append(np.repeat(np.nan, K), np.append(np.arange(A), np.repeat(np.arange(A), K))), \n",
    "                 'type': np.append(np.repeat(1, K), np.append(np.repeat(2, A),  np.repeat(3,K*A)))}\n",
    "\n",
    "    kappa = {'out': {'m':m,\n",
    "                     'params' : np.tile(np.repeat(0,V), (parLength, 1)),\n",
    "                     'covar' : covar\n",
    "                     #'kappasum':, why rolling sum?\n",
    "                    }\n",
    "            }\n",
    "\n",
    "    return(kappa['out'])"
   ]
  },
  {
   "cell_type": "code",
   "execution_count": null,
   "id": "bab407cd",
   "metadata": {},
   "outputs": [],
   "source": []
  },
  {
   "cell_type": "code",
   "execution_count": null,
   "id": "de080a1e",
   "metadata": {},
   "outputs": [],
   "source": []
  }
 ],
 "metadata": {
  "kernelspec": {
   "display_name": "Python 3 (ipykernel)",
   "language": "python",
   "name": "python3"
  },
  "language_info": {
   "codemirror_mode": {
    "name": "ipython",
    "version": 3
   },
   "file_extension": ".py",
   "mimetype": "text/x-python",
   "name": "python",
   "nbconvert_exporter": "python",
   "pygments_lexer": "ipython3",
   "version": "3.10.0"
  }
 },
 "nbformat": 4,
 "nbformat_minor": 5
}
