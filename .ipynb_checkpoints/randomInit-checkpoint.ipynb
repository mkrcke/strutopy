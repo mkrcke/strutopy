{
 "cells": [
  {
   "cell_type": "code",
   "execution_count": 67,
   "id": "dd0e8aa1",
   "metadata": {},
   "outputs": [],
   "source": [
    "import numpy as np\n",
    "import numpy.random as random"
   ]
  },
  {
   "cell_type": "code",
   "execution_count": 7,
   "id": "53822dc5",
   "metadata": {},
   "outputs": [],
   "source": [
    "#Initialize parameters\n",
    "K = 10 #number of topics\n",
    "V = 1000 #number of words\n",
    "A = 2 #dimension of topical content\n",
    "N = 20 #number of documents"
   ]
  },
  {
   "cell_type": "code",
   "execution_count": 131,
   "id": "d46df0a3",
   "metadata": {},
   "outputs": [],
   "source": [
    "mu = np.array([0]*(K-1))\n",
    "sigma = np.zeros(((K-1),(K-1)))\n",
    "diag = np.diagonal(sigma, 0)\n",
    "diag.setflags(write=True)\n",
    "diag.fill(20)\n",
    "beta = random.gamma(.1,1, V*K).reshape(K,V)\n",
    "beta = (beta.T/beta.sum(axis=1)).T\n",
    "lambd = np.zeros((N, (K-1)))\n",
    "beta = np.repeat(list(beta),A)"
   ]
  },
  {
   "cell_type": "code",
   "execution_count": 152,
   "id": "4082eae1",
   "metadata": {},
   "outputs": [],
   "source": [
    "model = {'mu':mu, 'sigma':sigma, 'beta': beta, 'lambda': lambd}"
   ]
  },
  {
   "cell_type": "code",
   "execution_count": null,
   "id": "ea1cc692",
   "metadata": {},
   "outputs": [],
   "source": []
  }
 ],
 "metadata": {
  "kernelspec": {
   "display_name": "Python 3 (ipykernel)",
   "language": "python",
   "name": "python3"
  },
  "language_info": {
   "codemirror_mode": {
    "name": "ipython",
    "version": 3
   },
   "file_extension": ".py",
   "mimetype": "text/x-python",
   "name": "python",
   "nbconvert_exporter": "python",
   "pygments_lexer": "ipython3",
   "version": "3.10.0"
  }
 },
 "nbformat": 4,
 "nbformat_minor": 5
}
