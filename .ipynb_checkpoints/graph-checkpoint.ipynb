{
 "cells": [
  {
   "cell_type": "code",
   "execution_count": 19,
   "id": "ac20e539",
   "metadata": {},
   "outputs": [],
   "source": [
    "import random as random\n",
    "import numpy as np\n",
    "import networkx as nx\n",
    "import matplotlib.pyplot as plt"
   ]
  },
  {
   "cell_type": "code",
   "execution_count": 93,
   "id": "2958815f",
   "metadata": {},
   "outputs": [],
   "source": [
    "def create_connected_graph(n_node=100, edges = True, c = 0.1, draw = True, with_weight=True):\n",
    "\n",
    "    \n",
    "    u,v = list(range(n_node)), list(range(int(c*n_node)))\n",
    "    G = nx.Graph()\n",
    "    for d in u: \n",
    "        G.add_node(d)\n",
    "    if edges == True: \n",
    "        random.shuffle(u)\n",
    "        for u, v in zip(u, v): \n",
    "            if u != v: \n",
    "                G.add_edge(u,v)\n",
    "            else:\n",
    "                continue\n",
    "    \n",
    "        \n",
    "    # graph visuals\n",
    "    pos = nx.kamada_kawai_layout(G)\n",
    "    \n",
    "    options = {\n",
    "    \"node_color\": \"#A0CBE2\",\n",
    "    \"edge_color\": 'blue',\n",
    "    \"width\": 4,\n",
    "    \"edge_cmap\": plt.cm.Blues,\n",
    "    \"with_labels\": False,\n",
    "    }\n",
    "    if draw == True: \n",
    "        nx.draw_kamada_kawai(G)#, pos, **options, node_size=500)\n",
    "    \n",
    "    return G, plt.show()\n"
   ]
  },
  {
   "cell_type": "code",
   "execution_count": 94,
   "id": "21128efd",
   "metadata": {},
   "outputs": [
    {
     "data": {
      "image/png": "[encoded data removed]",
      "text/plain": [
       "<Figure size 432x288 with 1 Axes>"
      ]
     },
     "metadata": {},
     "output_type": "display_data"
    }
   ],
   "source": [
    "G = create_connected_graph(n_node=20, c = 0.5, draw=True)"
   ]
  },
  {
   "cell_type": "code",
   "execution_count": null,
   "id": "bdeac34c",
   "metadata": {},
   "outputs": [],
   "source": []
  }
 ],
 "metadata": {
  "kernelspec": {
   "display_name": "Python 3 (ipykernel)",
   "language": "python",
   "name": "python3"
  },
  "language_info": {
   "codemirror_mode": {
    "name": "ipython",
    "version": 3
   },
   "file_extension": ".py",
   "mimetype": "text/x-python",
   "name": "python",
   "nbconvert_exporter": "python",
   "pygments_lexer": "ipython3",
   "version": "3.10.0"
  }
 },
 "nbformat": 4,
 "nbformat_minor": 5
}
